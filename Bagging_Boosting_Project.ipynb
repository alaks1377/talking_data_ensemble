{
  "nbformat": 4,
  "nbformat_minor": 0,
  "metadata": {
    "colab": {
      "name": "Bagging_Boosting_Project.ipynb",
      "provenance": [],
      "authorship_tag": "ABX9TyOBf8FYX2PQGse++7xaH/2t",
      "include_colab_link": true
    },
    "kernelspec": {
      "name": "python3",
      "display_name": "Python 3"
    },
    "language_info": {
      "name": "python"
    }
  },
  "cells": [
    {
      "cell_type": "markdown",
      "metadata": {
        "id": "view-in-github",
        "colab_type": "text"
      },
      "source": [
        "<a href=\"https://colab.research.google.com/github/alaks1377/talking_data_ensemble/blob/main/Bagging_Boosting_Project.ipynb\" target=\"_parent\"><img src=\"https://colab.research.google.com/assets/colab-badge.svg\" alt=\"Open In Colab\"/></a>"
      ]
    },
    {
      "cell_type": "code",
      "execution_count": 61,
      "metadata": {
        "id": "sk_MCwOvGfrM"
      },
      "outputs": [],
      "source": [
        "import pandas as pd"
      ]
    },
    {
      "cell_type": "code",
      "source": [
        "data = pd.read_csv('/content/talking_data.csv')"
      ],
      "metadata": {
        "id": "NZQuYmlBG25Y"
      },
      "execution_count": 62,
      "outputs": []
    },
    {
      "cell_type": "code",
      "source": [
        "data.head()"
      ],
      "metadata": {
        "colab": {
          "base_uri": "https://localhost:8080/",
          "height": 206
        },
        "id": "eM_aDw5YG8xL",
        "outputId": "b0c371e9-7e22-4931-a2c4-60b1c4ebbe1c"
      },
      "execution_count": 63,
      "outputs": [
        {
          "output_type": "execute_result",
          "data": {
            "text/plain": [
              "       ip  app  device  os  channel           click_time attributed_time  \\\n",
              "0   87540   12       1  13      497  2017-11-07 09:30:38             NaN   \n",
              "1  105560   25       1  17      259  2017-11-07 13:40:27             NaN   \n",
              "2  101424   12       1  19      212  2017-11-07 18:05:24             NaN   \n",
              "3   94584   13       1  13      477  2017-11-07 04:58:08             NaN   \n",
              "4   68413   12       1   1      178  2017-11-09 09:00:09             NaN   \n",
              "\n",
              "   is_attributed  \n",
              "0              0  \n",
              "1              0  \n",
              "2              0  \n",
              "3              0  \n",
              "4              0  "
            ],
            "text/html": [
              "\n",
              "  <div id=\"df-881d2544-0879-44ec-8aaf-d7fa85749af4\">\n",
              "    <div class=\"colab-df-container\">\n",
              "      <div>\n",
              "<style scoped>\n",
              "    .dataframe tbody tr th:only-of-type {\n",
              "        vertical-align: middle;\n",
              "    }\n",
              "\n",
              "    .dataframe tbody tr th {\n",
              "        vertical-align: top;\n",
              "    }\n",
              "\n",
              "    .dataframe thead th {\n",
              "        text-align: right;\n",
              "    }\n",
              "</style>\n",
              "<table border=\"1\" class=\"dataframe\">\n",
              "  <thead>\n",
              "    <tr style=\"text-align: right;\">\n",
              "      <th></th>\n",
              "      <th>ip</th>\n",
              "      <th>app</th>\n",
              "      <th>device</th>\n",
              "      <th>os</th>\n",
              "      <th>channel</th>\n",
              "      <th>click_time</th>\n",
              "      <th>attributed_time</th>\n",
              "      <th>is_attributed</th>\n",
              "    </tr>\n",
              "  </thead>\n",
              "  <tbody>\n",
              "    <tr>\n",
              "      <th>0</th>\n",
              "      <td>87540</td>\n",
              "      <td>12</td>\n",
              "      <td>1</td>\n",
              "      <td>13</td>\n",
              "      <td>497</td>\n",
              "      <td>2017-11-07 09:30:38</td>\n",
              "      <td>NaN</td>\n",
              "      <td>0</td>\n",
              "    </tr>\n",
              "    <tr>\n",
              "      <th>1</th>\n",
              "      <td>105560</td>\n",
              "      <td>25</td>\n",
              "      <td>1</td>\n",
              "      <td>17</td>\n",
              "      <td>259</td>\n",
              "      <td>2017-11-07 13:40:27</td>\n",
              "      <td>NaN</td>\n",
              "      <td>0</td>\n",
              "    </tr>\n",
              "    <tr>\n",
              "      <th>2</th>\n",
              "      <td>101424</td>\n",
              "      <td>12</td>\n",
              "      <td>1</td>\n",
              "      <td>19</td>\n",
              "      <td>212</td>\n",
              "      <td>2017-11-07 18:05:24</td>\n",
              "      <td>NaN</td>\n",
              "      <td>0</td>\n",
              "    </tr>\n",
              "    <tr>\n",
              "      <th>3</th>\n",
              "      <td>94584</td>\n",
              "      <td>13</td>\n",
              "      <td>1</td>\n",
              "      <td>13</td>\n",
              "      <td>477</td>\n",
              "      <td>2017-11-07 04:58:08</td>\n",
              "      <td>NaN</td>\n",
              "      <td>0</td>\n",
              "    </tr>\n",
              "    <tr>\n",
              "      <th>4</th>\n",
              "      <td>68413</td>\n",
              "      <td>12</td>\n",
              "      <td>1</td>\n",
              "      <td>1</td>\n",
              "      <td>178</td>\n",
              "      <td>2017-11-09 09:00:09</td>\n",
              "      <td>NaN</td>\n",
              "      <td>0</td>\n",
              "    </tr>\n",
              "  </tbody>\n",
              "</table>\n",
              "</div>\n",
              "      <button class=\"colab-df-convert\" onclick=\"convertToInteractive('df-881d2544-0879-44ec-8aaf-d7fa85749af4')\"\n",
              "              title=\"Convert this dataframe to an interactive table.\"\n",
              "              style=\"display:none;\">\n",
              "        \n",
              "  <svg xmlns=\"http://www.w3.org/2000/svg\" height=\"24px\"viewBox=\"0 0 24 24\"\n",
              "       width=\"24px\">\n",
              "    <path d=\"M0 0h24v24H0V0z\" fill=\"none\"/>\n",
              "    <path d=\"M18.56 5.44l.94 2.06.94-2.06 2.06-.94-2.06-.94-.94-2.06-.94 2.06-2.06.94zm-11 1L8.5 8.5l.94-2.06 2.06-.94-2.06-.94L8.5 2.5l-.94 2.06-2.06.94zm10 10l.94 2.06.94-2.06 2.06-.94-2.06-.94-.94-2.06-.94 2.06-2.06.94z\"/><path d=\"M17.41 7.96l-1.37-1.37c-.4-.4-.92-.59-1.43-.59-.52 0-1.04.2-1.43.59L10.3 9.45l-7.72 7.72c-.78.78-.78 2.05 0 2.83L4 21.41c.39.39.9.59 1.41.59.51 0 1.02-.2 1.41-.59l7.78-7.78 2.81-2.81c.8-.78.8-2.07 0-2.86zM5.41 20L4 18.59l7.72-7.72 1.47 1.35L5.41 20z\"/>\n",
              "  </svg>\n",
              "      </button>\n",
              "      \n",
              "  <style>\n",
              "    .colab-df-container {\n",
              "      display:flex;\n",
              "      flex-wrap:wrap;\n",
              "      gap: 12px;\n",
              "    }\n",
              "\n",
              "    .colab-df-convert {\n",
              "      background-color: #E8F0FE;\n",
              "      border: none;\n",
              "      border-radius: 50%;\n",
              "      cursor: pointer;\n",
              "      display: none;\n",
              "      fill: #1967D2;\n",
              "      height: 32px;\n",
              "      padding: 0 0 0 0;\n",
              "      width: 32px;\n",
              "    }\n",
              "\n",
              "    .colab-df-convert:hover {\n",
              "      background-color: #E2EBFA;\n",
              "      box-shadow: 0px 1px 2px rgba(60, 64, 67, 0.3), 0px 1px 3px 1px rgba(60, 64, 67, 0.15);\n",
              "      fill: #174EA6;\n",
              "    }\n",
              "\n",
              "    [theme=dark] .colab-df-convert {\n",
              "      background-color: #3B4455;\n",
              "      fill: #D2E3FC;\n",
              "    }\n",
              "\n",
              "    [theme=dark] .colab-df-convert:hover {\n",
              "      background-color: #434B5C;\n",
              "      box-shadow: 0px 1px 3px 1px rgba(0, 0, 0, 0.15);\n",
              "      filter: drop-shadow(0px 1px 2px rgba(0, 0, 0, 0.3));\n",
              "      fill: #FFFFFF;\n",
              "    }\n",
              "  </style>\n",
              "\n",
              "      <script>\n",
              "        const buttonEl =\n",
              "          document.querySelector('#df-881d2544-0879-44ec-8aaf-d7fa85749af4 button.colab-df-convert');\n",
              "        buttonEl.style.display =\n",
              "          google.colab.kernel.accessAllowed ? 'block' : 'none';\n",
              "\n",
              "        async function convertToInteractive(key) {\n",
              "          const element = document.querySelector('#df-881d2544-0879-44ec-8aaf-d7fa85749af4');\n",
              "          const dataTable =\n",
              "            await google.colab.kernel.invokeFunction('convertToInteractive',\n",
              "                                                     [key], {});\n",
              "          if (!dataTable) return;\n",
              "\n",
              "          const docLinkHtml = 'Like what you see? Visit the ' +\n",
              "            '<a target=\"_blank\" href=https://colab.research.google.com/notebooks/data_table.ipynb>data table notebook</a>'\n",
              "            + ' to learn more about interactive tables.';\n",
              "          element.innerHTML = '';\n",
              "          dataTable['output_type'] = 'display_data';\n",
              "          await google.colab.output.renderOutput(dataTable, element);\n",
              "          const docLink = document.createElement('div');\n",
              "          docLink.innerHTML = docLinkHtml;\n",
              "          element.appendChild(docLink);\n",
              "        }\n",
              "      </script>\n",
              "    </div>\n",
              "  </div>\n",
              "  "
            ]
          },
          "metadata": {},
          "execution_count": 63
        }
      ]
    },
    {
      "cell_type": "markdown",
      "source": [
        "#**1. Explore the dataset for anomalies and missing values and take corrective actions if necessary.**"
      ],
      "metadata": {
        "id": "sDJi6qjaHols"
      }
    },
    {
      "cell_type": "code",
      "source": [
        "data.isnull().sum()"
      ],
      "metadata": {
        "colab": {
          "base_uri": "https://localhost:8080/"
        },
        "id": "eKY2cK5uHkAV",
        "outputId": "39204277-88d5-4506-e5b2-88adca0ca16f"
      },
      "execution_count": 64,
      "outputs": [
        {
          "output_type": "execute_result",
          "data": {
            "text/plain": [
              "ip                     0\n",
              "app                    0\n",
              "device                 0\n",
              "os                     0\n",
              "channel                0\n",
              "click_time             0\n",
              "attributed_time    99773\n",
              "is_attributed          0\n",
              "dtype: int64"
            ]
          },
          "metadata": {},
          "execution_count": 64
        }
      ]
    },
    {
      "cell_type": "markdown",
      "source": [
        "#**2. Which column has maximum number of unique values present among all the available columns**"
      ],
      "metadata": {
        "id": "TA_8Tu7cH3ui"
      }
    },
    {
      "cell_type": "code",
      "source": [
        "cols=data.columns"
      ],
      "metadata": {
        "id": "B5-eET3ZIa5a"
      },
      "execution_count": 65,
      "outputs": []
    },
    {
      "cell_type": "code",
      "source": [
        "for col in cols:\n",
        "  unique=len(data[col].unique())\n",
        "  print(\"{} Columns has {} Unique Values\".format(col,unique))\n",
        "  #print(col,unique)"
      ],
      "metadata": {
        "colab": {
          "base_uri": "https://localhost:8080/"
        },
        "id": "1BaMLGWjINWX",
        "outputId": "e52b6e9b-1164-40a5-c68a-3c8422067930"
      },
      "execution_count": 66,
      "outputs": [
        {
          "output_type": "stream",
          "name": "stdout",
          "text": [
            "ip Columns has 34857 Unique Values\n",
            "app Columns has 161 Unique Values\n",
            "device Columns has 100 Unique Values\n",
            "os Columns has 130 Unique Values\n",
            "channel Columns has 161 Unique Values\n",
            "click_time Columns has 80350 Unique Values\n",
            "attributed_time Columns has 228 Unique Values\n",
            "is_attributed Columns has 2 Unique Values\n"
          ]
        }
      ]
    },
    {
      "cell_type": "markdown",
      "source": [
        "#**3. Use an appropriate technique to get rid of all the apps that are very rare (say which comprise of less                than 20% clicks) and plot the rest..** "
      ],
      "metadata": {
        "id": "wa4-TCvDJWIn"
      }
    },
    {
      "cell_type": "code",
      "source": [
        "app_id=data.app.value_counts()\n",
        "total_sum=app_id.sum()\n",
        "uaid=data.app.unique()"
      ],
      "metadata": {
        "id": "xDTUAmR3IgOO"
      },
      "execution_count": 67,
      "outputs": []
    },
    {
      "cell_type": "code",
      "source": [
        "total_sum*0.2"
      ],
      "metadata": {
        "colab": {
          "base_uri": "https://localhost:8080/"
        },
        "id": "DztIwXW-MQMp",
        "outputId": "925ba433-fe19-407b-cd67-f53f9ba26a1c"
      },
      "execution_count": 68,
      "outputs": [
        {
          "output_type": "execute_result",
          "data": {
            "text/plain": [
              "20000.0"
            ]
          },
          "metadata": {},
          "execution_count": 68
        }
      ]
    },
    {
      "cell_type": "code",
      "source": [
        "#2% of total Clicks\n",
        "limit=total_sum*0.02\n",
        "x=app_id.values\n",
        "greater=[]\n",
        "less=[]\n",
        "for i in range(len(app_id)):\n",
        "  if x[i]>limit:\n",
        "    y=uaid[i]\n",
        "    greater.append(y)\n",
        "  else:\n",
        "    y=uaid[i]\n",
        "    less.append(y)\n",
        "\n",
        "\n",
        "print(\"Frequently used apps id:\",greater)\n",
        "print(\"App id Less Frequently used\",less)\n"
      ],
      "metadata": {
        "colab": {
          "base_uri": "https://localhost:8080/"
        },
        "id": "262YCUXcJzkP",
        "outputId": "31926e46-7ee9-4b33-fc50-e7a24efa2dd9"
      },
      "execution_count": 69,
      "outputs": [
        {
          "output_type": "stream",
          "name": "stdout",
          "text": [
            "Frequently used apps id: [12, 25, 13, 3, 1, 9, 2, 6, 20, 14]\n",
            "App id Less Frequently used [64, 7, 15, 18, 11, 8, 23, 21, 56, 28, 36, 22, 26, 17, 27, 10, 60, 58, 19, 32, 24, 4, 53, 125, 204, 5, 202, 70, 47, 29, 55, 103, 35, 83, 208, 146, 161, 46, 62, 65, 110, 42, 150, 266, 151, 148, 72, 310, 93, 94, 71, 43, 39, 170, 37, 68, 54, 107, 398, 160, 30, 183, 315, 45, 121, 38, 82, 134, 33, 233, 100, 44, 109, 59, 74, 61, 104, 66, 67, 273, 192, 50, 118, 372, 48, 232, 165, 91, 123, 88, 538, 49, 16, 105, 536, 216, 425, 117, 551, 99, 86, 101, 394, 78, 95, 181, 76, 34, 124, 548, 108, 85, 145, 79, 97, 75, 52, 215, 84, 96, 81, 139, 267, 80, 137, 119, 474, 158, 293, 122, 112, 149, 363, 271, 31, 171, 87, 168, 176, 347, 163, 190, 486, 133, 302, 268, 407, 116, 92, 115, 261]\n"
          ]
        }
      ]
    },
    {
      "cell_type": "code",
      "source": [
        "app_id"
      ],
      "metadata": {
        "colab": {
          "base_uri": "https://localhost:8080/"
        },
        "id": "TTHnL7arKpAJ",
        "outputId": "994e02d8-023a-4661-9023-797b40b9c2a0"
      },
      "execution_count": 70,
      "outputs": [
        {
          "output_type": "execute_result",
          "data": {
            "text/plain": [
              "3      18279\n",
              "12     13198\n",
              "2      11737\n",
              "9       8992\n",
              "15      8595\n",
              "       ...  \n",
              "145        1\n",
              "97         1\n",
              "96         1\n",
              "267        1\n",
              "261        1\n",
              "Name: app, Length: 161, dtype: int64"
            ]
          },
          "metadata": {},
          "execution_count": 70
        }
      ]
    },
    {
      "cell_type": "markdown",
      "source": [
        "#**4. By using Pandas derive new features such as - 'day_of_week' , 'day_of_year' , 'month' , and 'hour' as                  float/int datatypes using the 'click_time' column . Add the newly derived columns in original dataset.**"
      ],
      "metadata": {
        "id": "BP91lvu7NPpI"
      }
    },
    {
      "cell_type": "code",
      "source": [
        "data.click_time"
      ],
      "metadata": {
        "colab": {
          "base_uri": "https://localhost:8080/"
        },
        "id": "hGxMw5CxKqBm",
        "outputId": "fb56bff6-7f24-4fa7-e0ee-ea9be9735c27"
      },
      "execution_count": 71,
      "outputs": [
        {
          "output_type": "execute_result",
          "data": {
            "text/plain": [
              "0        2017-11-07 09:30:38\n",
              "1        2017-11-07 13:40:27\n",
              "2        2017-11-07 18:05:24\n",
              "3        2017-11-07 04:58:08\n",
              "4        2017-11-09 09:00:09\n",
              "                ...         \n",
              "99995    2017-11-09 13:25:41\n",
              "99996    2017-11-07 11:25:43\n",
              "99997    2017-11-08 11:38:42\n",
              "99998    2017-11-08 17:55:21\n",
              "99999    2017-11-07 14:32:27\n",
              "Name: click_time, Length: 100000, dtype: object"
            ]
          },
          "metadata": {},
          "execution_count": 71
        }
      ]
    },
    {
      "cell_type": "code",
      "source": [
        "from datetime import datetime\n",
        "data.click_time=pd.to_datetime(data.click_time)"
      ],
      "metadata": {
        "id": "eUFNPIlOOXdK"
      },
      "execution_count": 72,
      "outputs": []
    },
    {
      "cell_type": "code",
      "source": [
        "data['month']=pd.DatetimeIndex(data.click_time).month"
      ],
      "metadata": {
        "id": "icnBND4_OxkH"
      },
      "execution_count": 73,
      "outputs": []
    },
    {
      "cell_type": "code",
      "source": [
        "data['day_of_year']=pd.DatetimeIndex(data.click_time).dayofyear\n",
        "data['day_of_week']=pd.DatetimeIndex(data.click_time).dayofweek\n"
      ],
      "metadata": {
        "id": "d5emwsntPPQa"
      },
      "execution_count": 74,
      "outputs": []
    },
    {
      "cell_type": "code",
      "source": [
        "data['hour'] = pd.DatetimeIndex(data.click_time).hour"
      ],
      "metadata": {
        "id": "RWwfOh6eQg4G"
      },
      "execution_count": 75,
      "outputs": []
    },
    {
      "cell_type": "code",
      "source": [
        "data"
      ],
      "metadata": {
        "colab": {
          "base_uri": "https://localhost:8080/",
          "height": 424
        },
        "id": "VS9ETMR8PJlF",
        "outputId": "d50a5d25-e398-4b18-caac-633b419efcb1"
      },
      "execution_count": 76,
      "outputs": [
        {
          "output_type": "execute_result",
          "data": {
            "text/plain": [
              "           ip  app  device  os  channel          click_time attributed_time  \\\n",
              "0       87540   12       1  13      497 2017-11-07 09:30:38             NaN   \n",
              "1      105560   25       1  17      259 2017-11-07 13:40:27             NaN   \n",
              "2      101424   12       1  19      212 2017-11-07 18:05:24             NaN   \n",
              "3       94584   13       1  13      477 2017-11-07 04:58:08             NaN   \n",
              "4       68413   12       1   1      178 2017-11-09 09:00:09             NaN   \n",
              "...       ...  ...     ...  ..      ...                 ...             ...   \n",
              "99995  124883   11       1  19      122 2017-11-09 13:25:41             NaN   \n",
              "99996   85150    9       1  13      244 2017-11-07 11:25:43             NaN   \n",
              "99997   18839    3       1  13       19 2017-11-08 11:38:42             NaN   \n",
              "99998  114276   15       1  12      245 2017-11-08 17:55:21             NaN   \n",
              "99999  119349   14       1  15      401 2017-11-07 14:32:27             NaN   \n",
              "\n",
              "       is_attributed  month  day_of_year  day_of_week  hour  \n",
              "0                  0     11          311            1     9  \n",
              "1                  0     11          311            1    13  \n",
              "2                  0     11          311            1    18  \n",
              "3                  0     11          311            1     4  \n",
              "4                  0     11          313            3     9  \n",
              "...              ...    ...          ...          ...   ...  \n",
              "99995              0     11          313            3    13  \n",
              "99996              0     11          311            1    11  \n",
              "99997              0     11          312            2    11  \n",
              "99998              0     11          312            2    17  \n",
              "99999              0     11          311            1    14  \n",
              "\n",
              "[100000 rows x 12 columns]"
            ],
            "text/html": [
              "\n",
              "  <div id=\"df-a838c105-35c6-4b0f-8f4a-8d148669590a\">\n",
              "    <div class=\"colab-df-container\">\n",
              "      <div>\n",
              "<style scoped>\n",
              "    .dataframe tbody tr th:only-of-type {\n",
              "        vertical-align: middle;\n",
              "    }\n",
              "\n",
              "    .dataframe tbody tr th {\n",
              "        vertical-align: top;\n",
              "    }\n",
              "\n",
              "    .dataframe thead th {\n",
              "        text-align: right;\n",
              "    }\n",
              "</style>\n",
              "<table border=\"1\" class=\"dataframe\">\n",
              "  <thead>\n",
              "    <tr style=\"text-align: right;\">\n",
              "      <th></th>\n",
              "      <th>ip</th>\n",
              "      <th>app</th>\n",
              "      <th>device</th>\n",
              "      <th>os</th>\n",
              "      <th>channel</th>\n",
              "      <th>click_time</th>\n",
              "      <th>attributed_time</th>\n",
              "      <th>is_attributed</th>\n",
              "      <th>month</th>\n",
              "      <th>day_of_year</th>\n",
              "      <th>day_of_week</th>\n",
              "      <th>hour</th>\n",
              "    </tr>\n",
              "  </thead>\n",
              "  <tbody>\n",
              "    <tr>\n",
              "      <th>0</th>\n",
              "      <td>87540</td>\n",
              "      <td>12</td>\n",
              "      <td>1</td>\n",
              "      <td>13</td>\n",
              "      <td>497</td>\n",
              "      <td>2017-11-07 09:30:38</td>\n",
              "      <td>NaN</td>\n",
              "      <td>0</td>\n",
              "      <td>11</td>\n",
              "      <td>311</td>\n",
              "      <td>1</td>\n",
              "      <td>9</td>\n",
              "    </tr>\n",
              "    <tr>\n",
              "      <th>1</th>\n",
              "      <td>105560</td>\n",
              "      <td>25</td>\n",
              "      <td>1</td>\n",
              "      <td>17</td>\n",
              "      <td>259</td>\n",
              "      <td>2017-11-07 13:40:27</td>\n",
              "      <td>NaN</td>\n",
              "      <td>0</td>\n",
              "      <td>11</td>\n",
              "      <td>311</td>\n",
              "      <td>1</td>\n",
              "      <td>13</td>\n",
              "    </tr>\n",
              "    <tr>\n",
              "      <th>2</th>\n",
              "      <td>101424</td>\n",
              "      <td>12</td>\n",
              "      <td>1</td>\n",
              "      <td>19</td>\n",
              "      <td>212</td>\n",
              "      <td>2017-11-07 18:05:24</td>\n",
              "      <td>NaN</td>\n",
              "      <td>0</td>\n",
              "      <td>11</td>\n",
              "      <td>311</td>\n",
              "      <td>1</td>\n",
              "      <td>18</td>\n",
              "    </tr>\n",
              "    <tr>\n",
              "      <th>3</th>\n",
              "      <td>94584</td>\n",
              "      <td>13</td>\n",
              "      <td>1</td>\n",
              "      <td>13</td>\n",
              "      <td>477</td>\n",
              "      <td>2017-11-07 04:58:08</td>\n",
              "      <td>NaN</td>\n",
              "      <td>0</td>\n",
              "      <td>11</td>\n",
              "      <td>311</td>\n",
              "      <td>1</td>\n",
              "      <td>4</td>\n",
              "    </tr>\n",
              "    <tr>\n",
              "      <th>4</th>\n",
              "      <td>68413</td>\n",
              "      <td>12</td>\n",
              "      <td>1</td>\n",
              "      <td>1</td>\n",
              "      <td>178</td>\n",
              "      <td>2017-11-09 09:00:09</td>\n",
              "      <td>NaN</td>\n",
              "      <td>0</td>\n",
              "      <td>11</td>\n",
              "      <td>313</td>\n",
              "      <td>3</td>\n",
              "      <td>9</td>\n",
              "    </tr>\n",
              "    <tr>\n",
              "      <th>...</th>\n",
              "      <td>...</td>\n",
              "      <td>...</td>\n",
              "      <td>...</td>\n",
              "      <td>...</td>\n",
              "      <td>...</td>\n",
              "      <td>...</td>\n",
              "      <td>...</td>\n",
              "      <td>...</td>\n",
              "      <td>...</td>\n",
              "      <td>...</td>\n",
              "      <td>...</td>\n",
              "      <td>...</td>\n",
              "    </tr>\n",
              "    <tr>\n",
              "      <th>99995</th>\n",
              "      <td>124883</td>\n",
              "      <td>11</td>\n",
              "      <td>1</td>\n",
              "      <td>19</td>\n",
              "      <td>122</td>\n",
              "      <td>2017-11-09 13:25:41</td>\n",
              "      <td>NaN</td>\n",
              "      <td>0</td>\n",
              "      <td>11</td>\n",
              "      <td>313</td>\n",
              "      <td>3</td>\n",
              "      <td>13</td>\n",
              "    </tr>\n",
              "    <tr>\n",
              "      <th>99996</th>\n",
              "      <td>85150</td>\n",
              "      <td>9</td>\n",
              "      <td>1</td>\n",
              "      <td>13</td>\n",
              "      <td>244</td>\n",
              "      <td>2017-11-07 11:25:43</td>\n",
              "      <td>NaN</td>\n",
              "      <td>0</td>\n",
              "      <td>11</td>\n",
              "      <td>311</td>\n",
              "      <td>1</td>\n",
              "      <td>11</td>\n",
              "    </tr>\n",
              "    <tr>\n",
              "      <th>99997</th>\n",
              "      <td>18839</td>\n",
              "      <td>3</td>\n",
              "      <td>1</td>\n",
              "      <td>13</td>\n",
              "      <td>19</td>\n",
              "      <td>2017-11-08 11:38:42</td>\n",
              "      <td>NaN</td>\n",
              "      <td>0</td>\n",
              "      <td>11</td>\n",
              "      <td>312</td>\n",
              "      <td>2</td>\n",
              "      <td>11</td>\n",
              "    </tr>\n",
              "    <tr>\n",
              "      <th>99998</th>\n",
              "      <td>114276</td>\n",
              "      <td>15</td>\n",
              "      <td>1</td>\n",
              "      <td>12</td>\n",
              "      <td>245</td>\n",
              "      <td>2017-11-08 17:55:21</td>\n",
              "      <td>NaN</td>\n",
              "      <td>0</td>\n",
              "      <td>11</td>\n",
              "      <td>312</td>\n",
              "      <td>2</td>\n",
              "      <td>17</td>\n",
              "    </tr>\n",
              "    <tr>\n",
              "      <th>99999</th>\n",
              "      <td>119349</td>\n",
              "      <td>14</td>\n",
              "      <td>1</td>\n",
              "      <td>15</td>\n",
              "      <td>401</td>\n",
              "      <td>2017-11-07 14:32:27</td>\n",
              "      <td>NaN</td>\n",
              "      <td>0</td>\n",
              "      <td>11</td>\n",
              "      <td>311</td>\n",
              "      <td>1</td>\n",
              "      <td>14</td>\n",
              "    </tr>\n",
              "  </tbody>\n",
              "</table>\n",
              "<p>100000 rows × 12 columns</p>\n",
              "</div>\n",
              "      <button class=\"colab-df-convert\" onclick=\"convertToInteractive('df-a838c105-35c6-4b0f-8f4a-8d148669590a')\"\n",
              "              title=\"Convert this dataframe to an interactive table.\"\n",
              "              style=\"display:none;\">\n",
              "        \n",
              "  <svg xmlns=\"http://www.w3.org/2000/svg\" height=\"24px\"viewBox=\"0 0 24 24\"\n",
              "       width=\"24px\">\n",
              "    <path d=\"M0 0h24v24H0V0z\" fill=\"none\"/>\n",
              "    <path d=\"M18.56 5.44l.94 2.06.94-2.06 2.06-.94-2.06-.94-.94-2.06-.94 2.06-2.06.94zm-11 1L8.5 8.5l.94-2.06 2.06-.94-2.06-.94L8.5 2.5l-.94 2.06-2.06.94zm10 10l.94 2.06.94-2.06 2.06-.94-2.06-.94-.94-2.06-.94 2.06-2.06.94z\"/><path d=\"M17.41 7.96l-1.37-1.37c-.4-.4-.92-.59-1.43-.59-.52 0-1.04.2-1.43.59L10.3 9.45l-7.72 7.72c-.78.78-.78 2.05 0 2.83L4 21.41c.39.39.9.59 1.41.59.51 0 1.02-.2 1.41-.59l7.78-7.78 2.81-2.81c.8-.78.8-2.07 0-2.86zM5.41 20L4 18.59l7.72-7.72 1.47 1.35L5.41 20z\"/>\n",
              "  </svg>\n",
              "      </button>\n",
              "      \n",
              "  <style>\n",
              "    .colab-df-container {\n",
              "      display:flex;\n",
              "      flex-wrap:wrap;\n",
              "      gap: 12px;\n",
              "    }\n",
              "\n",
              "    .colab-df-convert {\n",
              "      background-color: #E8F0FE;\n",
              "      border: none;\n",
              "      border-radius: 50%;\n",
              "      cursor: pointer;\n",
              "      display: none;\n",
              "      fill: #1967D2;\n",
              "      height: 32px;\n",
              "      padding: 0 0 0 0;\n",
              "      width: 32px;\n",
              "    }\n",
              "\n",
              "    .colab-df-convert:hover {\n",
              "      background-color: #E2EBFA;\n",
              "      box-shadow: 0px 1px 2px rgba(60, 64, 67, 0.3), 0px 1px 3px 1px rgba(60, 64, 67, 0.15);\n",
              "      fill: #174EA6;\n",
              "    }\n",
              "\n",
              "    [theme=dark] .colab-df-convert {\n",
              "      background-color: #3B4455;\n",
              "      fill: #D2E3FC;\n",
              "    }\n",
              "\n",
              "    [theme=dark] .colab-df-convert:hover {\n",
              "      background-color: #434B5C;\n",
              "      box-shadow: 0px 1px 3px 1px rgba(0, 0, 0, 0.15);\n",
              "      filter: drop-shadow(0px 1px 2px rgba(0, 0, 0, 0.3));\n",
              "      fill: #FFFFFF;\n",
              "    }\n",
              "  </style>\n",
              "\n",
              "      <script>\n",
              "        const buttonEl =\n",
              "          document.querySelector('#df-a838c105-35c6-4b0f-8f4a-8d148669590a button.colab-df-convert');\n",
              "        buttonEl.style.display =\n",
              "          google.colab.kernel.accessAllowed ? 'block' : 'none';\n",
              "\n",
              "        async function convertToInteractive(key) {\n",
              "          const element = document.querySelector('#df-a838c105-35c6-4b0f-8f4a-8d148669590a');\n",
              "          const dataTable =\n",
              "            await google.colab.kernel.invokeFunction('convertToInteractive',\n",
              "                                                     [key], {});\n",
              "          if (!dataTable) return;\n",
              "\n",
              "          const docLinkHtml = 'Like what you see? Visit the ' +\n",
              "            '<a target=\"_blank\" href=https://colab.research.google.com/notebooks/data_table.ipynb>data table notebook</a>'\n",
              "            + ' to learn more about interactive tables.';\n",
              "          element.innerHTML = '';\n",
              "          dataTable['output_type'] = 'display_data';\n",
              "          await google.colab.output.renderOutput(dataTable, element);\n",
              "          const docLink = document.createElement('div');\n",
              "          docLink.innerHTML = docLinkHtml;\n",
              "          element.appendChild(docLink);\n",
              "        }\n",
              "      </script>\n",
              "    </div>\n",
              "  </div>\n",
              "  "
            ]
          },
          "metadata": {},
          "execution_count": 76
        }
      ]
    },
    {
      "cell_type": "code",
      "source": [
        "data=data.drop(columns=['attributed_time','click_time'])"
      ],
      "metadata": {
        "id": "_7MAxg4KPKof"
      },
      "execution_count": 77,
      "outputs": []
    },
    {
      "cell_type": "code",
      "source": [
        "data.head()"
      ],
      "metadata": {
        "colab": {
          "base_uri": "https://localhost:8080/",
          "height": 206
        },
        "id": "yqNqi8WiRoER",
        "outputId": "b60641ae-23f0-4ff4-b482-58813b636b50"
      },
      "execution_count": 78,
      "outputs": [
        {
          "output_type": "execute_result",
          "data": {
            "text/plain": [
              "       ip  app  device  os  channel  is_attributed  month  day_of_year  \\\n",
              "0   87540   12       1  13      497              0     11          311   \n",
              "1  105560   25       1  17      259              0     11          311   \n",
              "2  101424   12       1  19      212              0     11          311   \n",
              "3   94584   13       1  13      477              0     11          311   \n",
              "4   68413   12       1   1      178              0     11          313   \n",
              "\n",
              "   day_of_week  hour  \n",
              "0            1     9  \n",
              "1            1    13  \n",
              "2            1    18  \n",
              "3            1     4  \n",
              "4            3     9  "
            ],
            "text/html": [
              "\n",
              "  <div id=\"df-483cf33b-a206-4543-8c6c-e5781883c802\">\n",
              "    <div class=\"colab-df-container\">\n",
              "      <div>\n",
              "<style scoped>\n",
              "    .dataframe tbody tr th:only-of-type {\n",
              "        vertical-align: middle;\n",
              "    }\n",
              "\n",
              "    .dataframe tbody tr th {\n",
              "        vertical-align: top;\n",
              "    }\n",
              "\n",
              "    .dataframe thead th {\n",
              "        text-align: right;\n",
              "    }\n",
              "</style>\n",
              "<table border=\"1\" class=\"dataframe\">\n",
              "  <thead>\n",
              "    <tr style=\"text-align: right;\">\n",
              "      <th></th>\n",
              "      <th>ip</th>\n",
              "      <th>app</th>\n",
              "      <th>device</th>\n",
              "      <th>os</th>\n",
              "      <th>channel</th>\n",
              "      <th>is_attributed</th>\n",
              "      <th>month</th>\n",
              "      <th>day_of_year</th>\n",
              "      <th>day_of_week</th>\n",
              "      <th>hour</th>\n",
              "    </tr>\n",
              "  </thead>\n",
              "  <tbody>\n",
              "    <tr>\n",
              "      <th>0</th>\n",
              "      <td>87540</td>\n",
              "      <td>12</td>\n",
              "      <td>1</td>\n",
              "      <td>13</td>\n",
              "      <td>497</td>\n",
              "      <td>0</td>\n",
              "      <td>11</td>\n",
              "      <td>311</td>\n",
              "      <td>1</td>\n",
              "      <td>9</td>\n",
              "    </tr>\n",
              "    <tr>\n",
              "      <th>1</th>\n",
              "      <td>105560</td>\n",
              "      <td>25</td>\n",
              "      <td>1</td>\n",
              "      <td>17</td>\n",
              "      <td>259</td>\n",
              "      <td>0</td>\n",
              "      <td>11</td>\n",
              "      <td>311</td>\n",
              "      <td>1</td>\n",
              "      <td>13</td>\n",
              "    </tr>\n",
              "    <tr>\n",
              "      <th>2</th>\n",
              "      <td>101424</td>\n",
              "      <td>12</td>\n",
              "      <td>1</td>\n",
              "      <td>19</td>\n",
              "      <td>212</td>\n",
              "      <td>0</td>\n",
              "      <td>11</td>\n",
              "      <td>311</td>\n",
              "      <td>1</td>\n",
              "      <td>18</td>\n",
              "    </tr>\n",
              "    <tr>\n",
              "      <th>3</th>\n",
              "      <td>94584</td>\n",
              "      <td>13</td>\n",
              "      <td>1</td>\n",
              "      <td>13</td>\n",
              "      <td>477</td>\n",
              "      <td>0</td>\n",
              "      <td>11</td>\n",
              "      <td>311</td>\n",
              "      <td>1</td>\n",
              "      <td>4</td>\n",
              "    </tr>\n",
              "    <tr>\n",
              "      <th>4</th>\n",
              "      <td>68413</td>\n",
              "      <td>12</td>\n",
              "      <td>1</td>\n",
              "      <td>1</td>\n",
              "      <td>178</td>\n",
              "      <td>0</td>\n",
              "      <td>11</td>\n",
              "      <td>313</td>\n",
              "      <td>3</td>\n",
              "      <td>9</td>\n",
              "    </tr>\n",
              "  </tbody>\n",
              "</table>\n",
              "</div>\n",
              "      <button class=\"colab-df-convert\" onclick=\"convertToInteractive('df-483cf33b-a206-4543-8c6c-e5781883c802')\"\n",
              "              title=\"Convert this dataframe to an interactive table.\"\n",
              "              style=\"display:none;\">\n",
              "        \n",
              "  <svg xmlns=\"http://www.w3.org/2000/svg\" height=\"24px\"viewBox=\"0 0 24 24\"\n",
              "       width=\"24px\">\n",
              "    <path d=\"M0 0h24v24H0V0z\" fill=\"none\"/>\n",
              "    <path d=\"M18.56 5.44l.94 2.06.94-2.06 2.06-.94-2.06-.94-.94-2.06-.94 2.06-2.06.94zm-11 1L8.5 8.5l.94-2.06 2.06-.94-2.06-.94L8.5 2.5l-.94 2.06-2.06.94zm10 10l.94 2.06.94-2.06 2.06-.94-2.06-.94-.94-2.06-.94 2.06-2.06.94z\"/><path d=\"M17.41 7.96l-1.37-1.37c-.4-.4-.92-.59-1.43-.59-.52 0-1.04.2-1.43.59L10.3 9.45l-7.72 7.72c-.78.78-.78 2.05 0 2.83L4 21.41c.39.39.9.59 1.41.59.51 0 1.02-.2 1.41-.59l7.78-7.78 2.81-2.81c.8-.78.8-2.07 0-2.86zM5.41 20L4 18.59l7.72-7.72 1.47 1.35L5.41 20z\"/>\n",
              "  </svg>\n",
              "      </button>\n",
              "      \n",
              "  <style>\n",
              "    .colab-df-container {\n",
              "      display:flex;\n",
              "      flex-wrap:wrap;\n",
              "      gap: 12px;\n",
              "    }\n",
              "\n",
              "    .colab-df-convert {\n",
              "      background-color: #E8F0FE;\n",
              "      border: none;\n",
              "      border-radius: 50%;\n",
              "      cursor: pointer;\n",
              "      display: none;\n",
              "      fill: #1967D2;\n",
              "      height: 32px;\n",
              "      padding: 0 0 0 0;\n",
              "      width: 32px;\n",
              "    }\n",
              "\n",
              "    .colab-df-convert:hover {\n",
              "      background-color: #E2EBFA;\n",
              "      box-shadow: 0px 1px 2px rgba(60, 64, 67, 0.3), 0px 1px 3px 1px rgba(60, 64, 67, 0.15);\n",
              "      fill: #174EA6;\n",
              "    }\n",
              "\n",
              "    [theme=dark] .colab-df-convert {\n",
              "      background-color: #3B4455;\n",
              "      fill: #D2E3FC;\n",
              "    }\n",
              "\n",
              "    [theme=dark] .colab-df-convert:hover {\n",
              "      background-color: #434B5C;\n",
              "      box-shadow: 0px 1px 3px 1px rgba(0, 0, 0, 0.15);\n",
              "      filter: drop-shadow(0px 1px 2px rgba(0, 0, 0, 0.3));\n",
              "      fill: #FFFFFF;\n",
              "    }\n",
              "  </style>\n",
              "\n",
              "      <script>\n",
              "        const buttonEl =\n",
              "          document.querySelector('#df-483cf33b-a206-4543-8c6c-e5781883c802 button.colab-df-convert');\n",
              "        buttonEl.style.display =\n",
              "          google.colab.kernel.accessAllowed ? 'block' : 'none';\n",
              "\n",
              "        async function convertToInteractive(key) {\n",
              "          const element = document.querySelector('#df-483cf33b-a206-4543-8c6c-e5781883c802');\n",
              "          const dataTable =\n",
              "            await google.colab.kernel.invokeFunction('convertToInteractive',\n",
              "                                                     [key], {});\n",
              "          if (!dataTable) return;\n",
              "\n",
              "          const docLinkHtml = 'Like what you see? Visit the ' +\n",
              "            '<a target=\"_blank\" href=https://colab.research.google.com/notebooks/data_table.ipynb>data table notebook</a>'\n",
              "            + ' to learn more about interactive tables.';\n",
              "          element.innerHTML = '';\n",
              "          dataTable['output_type'] = 'display_data';\n",
              "          await google.colab.output.renderOutput(dataTable, element);\n",
              "          const docLink = document.createElement('div');\n",
              "          docLink.innerHTML = docLinkHtml;\n",
              "          element.appendChild(docLink);\n",
              "        }\n",
              "      </script>\n",
              "    </div>\n",
              "  </div>\n",
              "  "
            ]
          },
          "metadata": {},
          "execution_count": 78
        }
      ]
    },
    {
      "cell_type": "markdown",
      "source": [
        "#**5. Divide the data into training and testing subsets into 80:20 ratio(Train_data = 80% , Testing_data = 20%) and\n",
        "     check the average download rates('is_attributed') for train and test data, scores should be comparable.**"
      ],
      "metadata": {
        "id": "ROhyIqHGSB5k"
      }
    },
    {
      "cell_type": "code",
      "source": [
        "from sklearn.model_selection import train_test_split\n",
        "x = data.drop(columns=['is_attributed'])\n",
        "y = data.is_attributed"
      ],
      "metadata": {
        "id": "_oKgwt9JSCpx"
      },
      "execution_count": 79,
      "outputs": []
    },
    {
      "cell_type": "code",
      "source": [
        "x_train,x_test,y_train,y_test = train_test_split(x,y,test_size=0.20)"
      ],
      "metadata": {
        "id": "7GK1cJ8tSgJ1"
      },
      "execution_count": 80,
      "outputs": []
    },
    {
      "cell_type": "code",
      "source": [
        "print(y_train.value_counts())"
      ],
      "metadata": {
        "colab": {
          "base_uri": "https://localhost:8080/"
        },
        "id": "PuQsowv-eBzs",
        "outputId": "760d69fe-5c98-4625-bfae-ce5812218d7c"
      },
      "execution_count": 81,
      "outputs": [
        {
          "output_type": "stream",
          "name": "stdout",
          "text": [
            "0    79821\n",
            "1      179\n",
            "Name: is_attributed, dtype: int64\n"
          ]
        }
      ]
    },
    {
      "cell_type": "markdown",
      "source": [
        "we need to balance the dataset"
      ],
      "metadata": {
        "id": "M8fnfzEged1j"
      }
    },
    {
      "cell_type": "code",
      "source": [
        "from  imblearn.over_sampling import SMOTE\n",
        "sm = SMOTE()\n",
        "x_train, y_train = sm.fit_resample(x_train,y_train)\n",
        "print(y_train.value_counts())"
      ],
      "metadata": {
        "colab": {
          "base_uri": "https://localhost:8080/"
        },
        "id": "wvFG8r0Eek2y",
        "outputId": "11aa2b75-4617-4f8a-abbf-e645ea740181"
      },
      "execution_count": 82,
      "outputs": [
        {
          "output_type": "stream",
          "name": "stdout",
          "text": [
            "0    79821\n",
            "1    79821\n",
            "Name: is_attributed, dtype: int64\n"
          ]
        }
      ]
    },
    {
      "cell_type": "markdown",
      "source": [
        "#**6. Apply XGBoostClassifier with default parameters on training data and make first 10 prediction for Test data.          NOTE: Use y_pred = model.predict_proba(X_test) since we need probabilities to compute AUC.** "
      ],
      "metadata": {
        "id": "EUrZeZiuTnbW"
      }
    },
    {
      "cell_type": "code",
      "source": [
        "import xgboost as xgb\n",
        "xgb_cl = xgb.XGBClassifier()\n",
        "print(type(xgb_cl))\n",
        "xgb_cl.fit(x_train,y_train)"
      ],
      "metadata": {
        "colab": {
          "base_uri": "https://localhost:8080/"
        },
        "id": "D9fZ2jwqTVRj",
        "outputId": "7fbd5e3e-bc2d-42bd-8734-82060bbe7343"
      },
      "execution_count": 83,
      "outputs": [
        {
          "output_type": "stream",
          "name": "stdout",
          "text": [
            "<class 'xgboost.sklearn.XGBClassifier'>\n"
          ]
        },
        {
          "output_type": "execute_result",
          "data": {
            "text/plain": [
              "XGBClassifier()"
            ]
          },
          "metadata": {},
          "execution_count": 83
        }
      ]
    },
    {
      "cell_type": "code",
      "source": [
        "y_pred = xgb_cl.predict_proba(x_test)\n",
        "print(y_pred[:10])\n",
        "pred_y = xgb_cl.predict(x_test)\n",
        "print(pred_y[:10])"
      ],
      "metadata": {
        "colab": {
          "base_uri": "https://localhost:8080/"
        },
        "id": "fi8G66XHVtaL",
        "outputId": "387cee6d-e3ac-4af6-bb51-cd96eb3a6625"
      },
      "execution_count": 84,
      "outputs": [
        {
          "output_type": "stream",
          "name": "stdout",
          "text": [
            "[[0.96668833 0.03331166]\n",
            " [0.9441895  0.05581049]\n",
            " [0.85065925 0.14934072]\n",
            " [0.9813381  0.01866191]\n",
            " [0.9767683  0.02323166]\n",
            " [0.99445075 0.00554925]\n",
            " [0.9848102  0.01518983]\n",
            " [0.9654062  0.03459381]\n",
            " [0.98152375 0.01847624]\n",
            " [0.8853891  0.1146109 ]]\n",
            "[0 0 0 0 0 0 0 0 0 0]\n"
          ]
        }
      ]
    },
    {
      "cell_type": "markdown",
      "source": [
        "#**7. On evaluating the predictions made by the model what is the AUC/ROC score with default hyperparameters.*"
      ],
      "metadata": {
        "id": "w8rmLdiyVUwy"
      }
    },
    {
      "cell_type": "code",
      "source": [
        "from sklearn.metrics import roc_auc_score,confusion_matrix\n",
        "auc_score = roc_auc_score(y_test,pred_y)\n",
        "print(\"Accuracy score is:\",round(auc_score*100))\n",
        "display(confusion_matrix(y_test,pred_y))"
      ],
      "metadata": {
        "colab": {
          "base_uri": "https://localhost:8080/",
          "height": 69
        },
        "id": "lTEQW6ePVVrZ",
        "outputId": "1269289d-f06c-44ef-8d5e-81f119c80dd0"
      },
      "execution_count": 91,
      "outputs": [
        {
          "output_type": "stream",
          "name": "stdout",
          "text": [
            "Accuracy score is: 89\n"
          ]
        },
        {
          "output_type": "display_data",
          "data": {
            "text/plain": [
              "array([[19266,   686],\n",
              "       [    9,    39]])"
            ]
          },
          "metadata": {}
        }
      ]
    },
    {
      "cell_type": "markdown",
      "source": [
        "#**8. Compute feature importance score and name the top 5 features/columns .**"
      ],
      "metadata": {
        "id": "V3Ln2sGsYaur"
      }
    },
    {
      "cell_type": "code",
      "source": [
        "data.corr()"
      ],
      "metadata": {
        "colab": {
          "base_uri": "https://localhost:8080/",
          "height": 363
        },
        "id": "oIVxxl-LZZbP",
        "outputId": "60e08b2e-22fb-403a-8d67-783495bf6de0"
      },
      "execution_count": 86,
      "outputs": [
        {
          "output_type": "execute_result",
          "data": {
            "text/plain": [
              "                     ip       app    device        os   channel  \\\n",
              "ip             1.000000  0.010400 -0.001499 -0.000470  0.007563   \n",
              "app            0.010400  1.000000  0.248376  0.247160 -0.028238   \n",
              "device        -0.001499  0.248376  1.000000  0.924456 -0.035398   \n",
              "os            -0.000470  0.247160  0.924456  1.000000 -0.033175   \n",
              "channel        0.007563 -0.028238 -0.035398 -0.033175  1.000000   \n",
              "is_attributed  0.054955  0.064426 -0.000695  0.006183 -0.023336   \n",
              "month               NaN       NaN       NaN       NaN       NaN   \n",
              "day_of_year    0.057067 -0.032182 -0.040110 -0.031336  0.000265   \n",
              "day_of_week    0.057067 -0.032182 -0.040110 -0.031336  0.000265   \n",
              "hour          -0.007955  0.026079  0.012035  0.014660 -0.021326   \n",
              "\n",
              "               is_attributed  month  day_of_year  day_of_week      hour  \n",
              "ip                  0.054955    NaN     0.057067     0.057067 -0.007955  \n",
              "app                 0.064426    NaN    -0.032182    -0.032182  0.026079  \n",
              "device             -0.000695    NaN    -0.040110    -0.040110  0.012035  \n",
              "os                  0.006183    NaN    -0.031336    -0.031336  0.014660  \n",
              "channel            -0.023336    NaN     0.000265     0.000265 -0.021326  \n",
              "is_attributed       1.000000    NaN    -0.000603    -0.000603 -0.002944  \n",
              "month                    NaN    NaN          NaN          NaN       NaN  \n",
              "day_of_year        -0.000603    NaN     1.000000     1.000000 -0.274896  \n",
              "day_of_week        -0.000603    NaN     1.000000     1.000000 -0.274896  \n",
              "hour               -0.002944    NaN    -0.274896    -0.274896  1.000000  "
            ],
            "text/html": [
              "\n",
              "  <div id=\"df-e0b5bf2c-1e88-4080-9f21-84662f3223e4\">\n",
              "    <div class=\"colab-df-container\">\n",
              "      <div>\n",
              "<style scoped>\n",
              "    .dataframe tbody tr th:only-of-type {\n",
              "        vertical-align: middle;\n",
              "    }\n",
              "\n",
              "    .dataframe tbody tr th {\n",
              "        vertical-align: top;\n",
              "    }\n",
              "\n",
              "    .dataframe thead th {\n",
              "        text-align: right;\n",
              "    }\n",
              "</style>\n",
              "<table border=\"1\" class=\"dataframe\">\n",
              "  <thead>\n",
              "    <tr style=\"text-align: right;\">\n",
              "      <th></th>\n",
              "      <th>ip</th>\n",
              "      <th>app</th>\n",
              "      <th>device</th>\n",
              "      <th>os</th>\n",
              "      <th>channel</th>\n",
              "      <th>is_attributed</th>\n",
              "      <th>month</th>\n",
              "      <th>day_of_year</th>\n",
              "      <th>day_of_week</th>\n",
              "      <th>hour</th>\n",
              "    </tr>\n",
              "  </thead>\n",
              "  <tbody>\n",
              "    <tr>\n",
              "      <th>ip</th>\n",
              "      <td>1.000000</td>\n",
              "      <td>0.010400</td>\n",
              "      <td>-0.001499</td>\n",
              "      <td>-0.000470</td>\n",
              "      <td>0.007563</td>\n",
              "      <td>0.054955</td>\n",
              "      <td>NaN</td>\n",
              "      <td>0.057067</td>\n",
              "      <td>0.057067</td>\n",
              "      <td>-0.007955</td>\n",
              "    </tr>\n",
              "    <tr>\n",
              "      <th>app</th>\n",
              "      <td>0.010400</td>\n",
              "      <td>1.000000</td>\n",
              "      <td>0.248376</td>\n",
              "      <td>0.247160</td>\n",
              "      <td>-0.028238</td>\n",
              "      <td>0.064426</td>\n",
              "      <td>NaN</td>\n",
              "      <td>-0.032182</td>\n",
              "      <td>-0.032182</td>\n",
              "      <td>0.026079</td>\n",
              "    </tr>\n",
              "    <tr>\n",
              "      <th>device</th>\n",
              "      <td>-0.001499</td>\n",
              "      <td>0.248376</td>\n",
              "      <td>1.000000</td>\n",
              "      <td>0.924456</td>\n",
              "      <td>-0.035398</td>\n",
              "      <td>-0.000695</td>\n",
              "      <td>NaN</td>\n",
              "      <td>-0.040110</td>\n",
              "      <td>-0.040110</td>\n",
              "      <td>0.012035</td>\n",
              "    </tr>\n",
              "    <tr>\n",
              "      <th>os</th>\n",
              "      <td>-0.000470</td>\n",
              "      <td>0.247160</td>\n",
              "      <td>0.924456</td>\n",
              "      <td>1.000000</td>\n",
              "      <td>-0.033175</td>\n",
              "      <td>0.006183</td>\n",
              "      <td>NaN</td>\n",
              "      <td>-0.031336</td>\n",
              "      <td>-0.031336</td>\n",
              "      <td>0.014660</td>\n",
              "    </tr>\n",
              "    <tr>\n",
              "      <th>channel</th>\n",
              "      <td>0.007563</td>\n",
              "      <td>-0.028238</td>\n",
              "      <td>-0.035398</td>\n",
              "      <td>-0.033175</td>\n",
              "      <td>1.000000</td>\n",
              "      <td>-0.023336</td>\n",
              "      <td>NaN</td>\n",
              "      <td>0.000265</td>\n",
              "      <td>0.000265</td>\n",
              "      <td>-0.021326</td>\n",
              "    </tr>\n",
              "    <tr>\n",
              "      <th>is_attributed</th>\n",
              "      <td>0.054955</td>\n",
              "      <td>0.064426</td>\n",
              "      <td>-0.000695</td>\n",
              "      <td>0.006183</td>\n",
              "      <td>-0.023336</td>\n",
              "      <td>1.000000</td>\n",
              "      <td>NaN</td>\n",
              "      <td>-0.000603</td>\n",
              "      <td>-0.000603</td>\n",
              "      <td>-0.002944</td>\n",
              "    </tr>\n",
              "    <tr>\n",
              "      <th>month</th>\n",
              "      <td>NaN</td>\n",
              "      <td>NaN</td>\n",
              "      <td>NaN</td>\n",
              "      <td>NaN</td>\n",
              "      <td>NaN</td>\n",
              "      <td>NaN</td>\n",
              "      <td>NaN</td>\n",
              "      <td>NaN</td>\n",
              "      <td>NaN</td>\n",
              "      <td>NaN</td>\n",
              "    </tr>\n",
              "    <tr>\n",
              "      <th>day_of_year</th>\n",
              "      <td>0.057067</td>\n",
              "      <td>-0.032182</td>\n",
              "      <td>-0.040110</td>\n",
              "      <td>-0.031336</td>\n",
              "      <td>0.000265</td>\n",
              "      <td>-0.000603</td>\n",
              "      <td>NaN</td>\n",
              "      <td>1.000000</td>\n",
              "      <td>1.000000</td>\n",
              "      <td>-0.274896</td>\n",
              "    </tr>\n",
              "    <tr>\n",
              "      <th>day_of_week</th>\n",
              "      <td>0.057067</td>\n",
              "      <td>-0.032182</td>\n",
              "      <td>-0.040110</td>\n",
              "      <td>-0.031336</td>\n",
              "      <td>0.000265</td>\n",
              "      <td>-0.000603</td>\n",
              "      <td>NaN</td>\n",
              "      <td>1.000000</td>\n",
              "      <td>1.000000</td>\n",
              "      <td>-0.274896</td>\n",
              "    </tr>\n",
              "    <tr>\n",
              "      <th>hour</th>\n",
              "      <td>-0.007955</td>\n",
              "      <td>0.026079</td>\n",
              "      <td>0.012035</td>\n",
              "      <td>0.014660</td>\n",
              "      <td>-0.021326</td>\n",
              "      <td>-0.002944</td>\n",
              "      <td>NaN</td>\n",
              "      <td>-0.274896</td>\n",
              "      <td>-0.274896</td>\n",
              "      <td>1.000000</td>\n",
              "    </tr>\n",
              "  </tbody>\n",
              "</table>\n",
              "</div>\n",
              "      <button class=\"colab-df-convert\" onclick=\"convertToInteractive('df-e0b5bf2c-1e88-4080-9f21-84662f3223e4')\"\n",
              "              title=\"Convert this dataframe to an interactive table.\"\n",
              "              style=\"display:none;\">\n",
              "        \n",
              "  <svg xmlns=\"http://www.w3.org/2000/svg\" height=\"24px\"viewBox=\"0 0 24 24\"\n",
              "       width=\"24px\">\n",
              "    <path d=\"M0 0h24v24H0V0z\" fill=\"none\"/>\n",
              "    <path d=\"M18.56 5.44l.94 2.06.94-2.06 2.06-.94-2.06-.94-.94-2.06-.94 2.06-2.06.94zm-11 1L8.5 8.5l.94-2.06 2.06-.94-2.06-.94L8.5 2.5l-.94 2.06-2.06.94zm10 10l.94 2.06.94-2.06 2.06-.94-2.06-.94-.94-2.06-.94 2.06-2.06.94z\"/><path d=\"M17.41 7.96l-1.37-1.37c-.4-.4-.92-.59-1.43-.59-.52 0-1.04.2-1.43.59L10.3 9.45l-7.72 7.72c-.78.78-.78 2.05 0 2.83L4 21.41c.39.39.9.59 1.41.59.51 0 1.02-.2 1.41-.59l7.78-7.78 2.81-2.81c.8-.78.8-2.07 0-2.86zM5.41 20L4 18.59l7.72-7.72 1.47 1.35L5.41 20z\"/>\n",
              "  </svg>\n",
              "      </button>\n",
              "      \n",
              "  <style>\n",
              "    .colab-df-container {\n",
              "      display:flex;\n",
              "      flex-wrap:wrap;\n",
              "      gap: 12px;\n",
              "    }\n",
              "\n",
              "    .colab-df-convert {\n",
              "      background-color: #E8F0FE;\n",
              "      border: none;\n",
              "      border-radius: 50%;\n",
              "      cursor: pointer;\n",
              "      display: none;\n",
              "      fill: #1967D2;\n",
              "      height: 32px;\n",
              "      padding: 0 0 0 0;\n",
              "      width: 32px;\n",
              "    }\n",
              "\n",
              "    .colab-df-convert:hover {\n",
              "      background-color: #E2EBFA;\n",
              "      box-shadow: 0px 1px 2px rgba(60, 64, 67, 0.3), 0px 1px 3px 1px rgba(60, 64, 67, 0.15);\n",
              "      fill: #174EA6;\n",
              "    }\n",
              "\n",
              "    [theme=dark] .colab-df-convert {\n",
              "      background-color: #3B4455;\n",
              "      fill: #D2E3FC;\n",
              "    }\n",
              "\n",
              "    [theme=dark] .colab-df-convert:hover {\n",
              "      background-color: #434B5C;\n",
              "      box-shadow: 0px 1px 3px 1px rgba(0, 0, 0, 0.15);\n",
              "      filter: drop-shadow(0px 1px 2px rgba(0, 0, 0, 0.3));\n",
              "      fill: #FFFFFF;\n",
              "    }\n",
              "  </style>\n",
              "\n",
              "      <script>\n",
              "        const buttonEl =\n",
              "          document.querySelector('#df-e0b5bf2c-1e88-4080-9f21-84662f3223e4 button.colab-df-convert');\n",
              "        buttonEl.style.display =\n",
              "          google.colab.kernel.accessAllowed ? 'block' : 'none';\n",
              "\n",
              "        async function convertToInteractive(key) {\n",
              "          const element = document.querySelector('#df-e0b5bf2c-1e88-4080-9f21-84662f3223e4');\n",
              "          const dataTable =\n",
              "            await google.colab.kernel.invokeFunction('convertToInteractive',\n",
              "                                                     [key], {});\n",
              "          if (!dataTable) return;\n",
              "\n",
              "          const docLinkHtml = 'Like what you see? Visit the ' +\n",
              "            '<a target=\"_blank\" href=https://colab.research.google.com/notebooks/data_table.ipynb>data table notebook</a>'\n",
              "            + ' to learn more about interactive tables.';\n",
              "          element.innerHTML = '';\n",
              "          dataTable['output_type'] = 'display_data';\n",
              "          await google.colab.output.renderOutput(dataTable, element);\n",
              "          const docLink = document.createElement('div');\n",
              "          docLink.innerHTML = docLinkHtml;\n",
              "          element.appendChild(docLink);\n",
              "        }\n",
              "      </script>\n",
              "    </div>\n",
              "  </div>\n",
              "  "
            ]
          },
          "metadata": {},
          "execution_count": 86
        }
      ]
    },
    {
      "cell_type": "markdown",
      "source": [
        "#**9. Apply BaggingClassifier with base_estimator LogisticRegression and compute AUC/ROC score."
      ],
      "metadata": {
        "id": "sj_XJSRbaUkb"
      }
    },
    {
      "cell_type": "code",
      "source": [
        "from sklearn.ensemble import BaggingClassifier\n",
        "\n",
        "bc = BaggingClassifier(n_estimators=10, max_samples =.7, bootstrap=True)\n",
        "bc = bc.fit(x_train,y_train)\n",
        "\n",
        "bag_preds = bc.predict(x_test)\n",
        "display(confusion_matrix(y_test,bag_preds))\n",
        "\n",
        "print(roc_auc_score(y_test, bag_preds))"
      ],
      "metadata": {
        "colab": {
          "base_uri": "https://localhost:8080/",
          "height": 69
        },
        "id": "51nf80GJaVlZ",
        "outputId": "a213c84c-0cbe-4c14-d0cd-76d6c0e5eb0f"
      },
      "execution_count": 87,
      "outputs": [
        {
          "output_type": "display_data",
          "data": {
            "text/plain": [
              "array([[19886,    66],\n",
              "       [   30,    18]])"
            ]
          },
          "metadata": {}
        },
        {
          "output_type": "stream",
          "name": "stdout",
          "text": [
            "0.6858460304731355\n"
          ]
        }
      ]
    },
    {
      "cell_type": "markdown",
      "source": [
        "#**10.  On the basis of AUC/ROC score which one will you choose from BaggingClassifier and XGBoostClassifier and              why?What does AUC/ROC score signifies?"
      ],
      "metadata": {
        "id": "a93xHJx9ge4y"
      }
    },
    {
      "cell_type": "markdown",
      "source": [
        "Auc/ROC signifies accuracy of the model.\n",
        "When it closer to 1, we can say that the classifier is performing good.\n",
        "Value closer to -1 has bad performance."
      ],
      "metadata": {
        "id": "tV64WIvigmTU"
      }
    },
    {
      "cell_type": "markdown",
      "source": [
        "#**11.  What is the accuracy for BaggingClassifier and XGBoostClassifier?()"
      ],
      "metadata": {
        "id": "lKHgqMEtAqvO"
      }
    },
    {
      "cell_type": "code",
      "source": [
        "print('accuracy score for xgboostclassifier is',auc_score)\n",
        "print('accuracy score for baggingclassifier is',roc_auc_score(y_test, bag_preds))"
      ],
      "metadata": {
        "colab": {
          "base_uri": "https://localhost:8080/"
        },
        "id": "0zDuVlYFwmJM",
        "outputId": "343bdf11-9caa-4a3b-a4aa-dcd57966def0"
      },
      "execution_count": 88,
      "outputs": [
        {
          "output_type": "stream",
          "name": "stdout",
          "text": [
            "accuracy score for xgboostclassifier is 0.889058740978348\n",
            "accuracy score for baggingclassifier is 0.6858460304731355\n"
          ]
        }
      ]
    }
  ]
}